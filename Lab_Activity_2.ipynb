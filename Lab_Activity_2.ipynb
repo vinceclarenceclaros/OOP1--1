{
  "nbformat": 4,
  "nbformat_minor": 0,
  "metadata": {
    "colab": {
      "provenance": [],
      "authorship_tag": "ABX9TyNLqcsfkr2ONKNlND/ru1zA",
      "include_colab_link": true
    },
    "kernelspec": {
      "name": "python3",
      "display_name": "Python 3"
    },
    "language_info": {
      "name": "python"
    }
  },
  "cells": [
    {
      "cell_type": "markdown",
      "metadata": {
        "id": "view-in-github",
        "colab_type": "text"
      },
      "source": [
        "<a href=\"https://colab.research.google.com/github/vinceclarenceclaros/OOP1-1/blob/main/Lab_Activity_2.ipynb\" target=\"_parent\"><img src=\"https://colab.research.google.com/assets/colab-badge.svg\" alt=\"Open In Colab\"/></a>"
      ]
    },
    {
      "cell_type": "code",
      "execution_count": 90,
      "metadata": {
        "colab": {
          "base_uri": "https://localhost:8080/"
        },
        "id": "B2TAx-UojzH8",
        "outputId": "37d3c5a0-601a-4333-c7f4-220ba10692c2"
      },
      "outputs": [
        {
          "output_type": "stream",
          "name": "stdout",
          "text": [
            "Name: Vince Clarence Regondola Claros\n",
            "Student Number: 02210001933\n",
            "Age: 20\n",
            "School: OLFU\n",
            "Course: BSCS\n"
          ]
        }
      ],
      "source": [
        "class Student:\n",
        "\n",
        "  def __init__(student, Name, Student_No , Age, School, Course):\n",
        "    student.name = Name\n",
        "    student.Student_No = Student_No\n",
        "    student.Age = Age\n",
        "    student.School = School\n",
        "    student.Course = Course\n",
        "\n",
        "  def info(student):\n",
        "    print(\"Name:\",student.name)\n",
        "    print(\"Student Number:\",student.Student_No)\n",
        "    print(\"Age:\",student.Age)\n",
        "    print(\"School:\", student.School)\n",
        "    print(\"Course:\", student.Course)\n",
        "\n",
        "Myself = Student(\"Vince Clarence Regondola Claros\", \"02210001933\", 20, \"OLFU\", \"BSCS\")\n",
        "Myself.info()\n",
        "\n",
        "\n",
        "\n",
        "\n"
      ]
    }
  ]
}